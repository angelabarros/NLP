{
 "cells": [
  {
   "cell_type": "code",
   "execution_count": 1,
   "metadata": {},
   "outputs": [],
   "source": [
    "import spacy\n",
    "nlp = spacy.load(\"pt_core_news_sm\")\n"
   ]
  },
  {
   "cell_type": "code",
   "execution_count": 2,
   "metadata": {},
   "outputs": [
    {
     "name": "stdout",
     "output_type": "stream",
     "text": [
      "[('Esta', 'PRON'), ('é', 'AUX'), ('uma', 'DET'), ('frase', 'NOUN'), ('.', 'PUNCT')]\n"
     ]
    }
   ],
   "source": [
    "doc = nlp(\"Esta é uma frase.\")\n",
    "print([(w.text, w.pos_) for w in doc])"
   ]
  },
  {
   "cell_type": "code",
   "execution_count": 3,
   "metadata": {},
   "outputs": [
    {
     "name": "stdout",
     "output_type": "stream",
     "text": [
      "[('Isto', 'PRON'), ('é', 'AUX'), ('apenas', 'ADV'), ('um', 'NUM'), ('teste', 'NOUN'), ('da', 'DET'), ('Ângela', 'PROPN')]\n"
     ]
    }
   ],
   "source": [
    "doc = nlp(\"Isto é apenas um teste da Ângela\")\n",
    "print([(w.text, w.pos_) for w in doc])"
   ]
  },
  {
   "cell_type": "code",
   "execution_count": 6,
   "metadata": {},
   "outputs": [
    {
     "name": "stdout",
     "output_type": "stream",
     "text": [
      "O O DET\n",
      "Bloco Bloco PROPN\n",
      "de de ADP\n",
      "Esquerda Esquerda PROPN\n",
      "( ( PUNCT\n",
      "BE BE PROPN\n",
      ") ) PUNCT\n",
      "considera considerar VERB\n",
      "que que SCONJ\n",
      "a o DET\n",
      "resposta respostar NOUN\n",
      "do do DET\n",
      "Fundo Fundo PROPN\n",
      "de de ADP\n",
      "Resolução Resolução PROPN\n",
      "( ( PUNCT\n",
      "FdR FdR PROPN\n",
      ") ) PUNCT\n",
      "ao ao DET\n",
      "requerimento requerimento NOUN\n",
      "apresentado apresentar VERB\n",
      "pela pelar DET\n",
      "deputada deputar NOUN\n",
      "Mariana Mariana PROPN\n",
      "Mortágua Mortágua PROPN\n",
      "para parir SCONJ\n",
      "ter ter VERB\n",
      "acesso acesso NOUN\n",
      "ao ao DET\n",
      "contrato contratar NOUN\n",
      "de de ADP\n",
      "compra comprar NOUN\n",
      "e e CCONJ\n",
      "venda vender NOUN\n",
      "está estar AUX\n",
      "incompleta incompleto ADJ\n",
      ". . PUNCT\n"
     ]
    }
   ],
   "source": [
    "doc = nlp(\"O Bloco de Esquerda (BE) considera que a resposta do Fundo de Resolução (FdR) ao requerimento apresentado pela deputada Mariana Mortágua para ter acesso ao contrato de compra e venda está incompleta.\")\n",
    "for token in doc:\n",
    "    print(token.text, token.lemma_, token.pos_)"
   ]
  },
  {
   "cell_type": "code",
   "execution_count": 8,
   "metadata": {},
   "outputs": [
    {
     "name": "stdout",
     "output_type": "stream",
     "text": [
      "Bloco de Esquerda 2 19 ORG\n",
      "BE 21 23 ORG\n",
      "Fundo de Resolução 53 71 ORG\n",
      "FdR 73 76 ORG\n",
      "Mariana Mortágua 120 136 PER\n"
     ]
    }
   ],
   "source": [
    "doc = nlp(\"O Bloco de Esquerda (BE) considera que a resposta do Fundo de Resolução (FdR) ao requerimento apresentado pela deputada Mariana Mortágua para ter acesso ao contrato de compra e venda está incompleta.\")\n",
    "for ent in doc.ents:\n",
    "    print(ent.text, ent.start_char, ent.end_char, ent.label_)"
   ]
  },
  {
   "cell_type": "code",
   "execution_count": 5,
   "metadata": {},
   "outputs": [
    {
     "ename": "NameError",
     "evalue": "name 'spacy' is not defined",
     "output_type": "error",
     "traceback": [
      "\u001b[0;31m---------------------------------------------------------------------------\u001b[0m",
      "\u001b[0;31mNameError\u001b[0m                                 Traceback (most recent call last)",
      "\u001b[0;32m<ipython-input-5-c26673f4f14d>\u001b[0m in \u001b[0;36m<module>\u001b[0;34m\u001b[0m\n\u001b[1;32m      1\u001b[0m \u001b[0;32mfrom\u001b[0m \u001b[0mspacy\u001b[0m \u001b[0;32mimport\u001b[0m \u001b[0mdisplacy\u001b[0m\u001b[0;34m\u001b[0m\u001b[0;34m\u001b[0m\u001b[0m\n\u001b[0;32m----> 2\u001b[0;31m \u001b[0mnlp\u001b[0m \u001b[0;34m=\u001b[0m \u001b[0mspacy\u001b[0m\u001b[0;34m.\u001b[0m\u001b[0mload\u001b[0m\u001b[0;34m(\u001b[0m\u001b[0;34m\"pt_core_news_sm\"\u001b[0m\u001b[0;34m)\u001b[0m\u001b[0;34m\u001b[0m\u001b[0;34m\u001b[0m\u001b[0m\n\u001b[0m",
      "\u001b[0;31mNameError\u001b[0m: name 'spacy' is not defined"
     ]
    }
   ],
   "source": [
    "from spacy import displacy\n",
    "nlp = spacy.load(\"pt_core_news_sm\")"
   ]
  },
  {
   "cell_type": "code",
   "execution_count": 3,
   "metadata": {},
   "outputs": [],
   "source": [
    "texto = \"O Bloco de Esquerda (BE) considera que a resposta do Fundo de Resolução (FdR) ao requerimento apresentado pela deputada Mariana Mortágua para ter acesso ao contrato de compra e venda está incompleta.\""
   ]
  },
  {
   "cell_type": "code",
   "execution_count": 4,
   "metadata": {},
   "outputs": [
    {
     "ename": "NameError",
     "evalue": "name 'nlp' is not defined",
     "output_type": "error",
     "traceback": [
      "\u001b[0;31m---------------------------------------------------------------------------\u001b[0m",
      "\u001b[0;31mNameError\u001b[0m                                 Traceback (most recent call last)",
      "\u001b[0;32m<ipython-input-4-abf873eb2014>\u001b[0m in \u001b[0;36m<module>\u001b[0;34m\u001b[0m\n\u001b[0;32m----> 1\u001b[0;31m \u001b[0mdoc\u001b[0m \u001b[0;34m=\u001b[0m \u001b[0mnlp\u001b[0m\u001b[0;34m(\u001b[0m\u001b[0mtext\u001b[0m\u001b[0;34m)\u001b[0m\u001b[0;34m\u001b[0m\u001b[0;34m\u001b[0m\u001b[0m\n\u001b[0m\u001b[1;32m      2\u001b[0m \u001b[0mdisplacy\u001b[0m\u001b[0;34m.\u001b[0m\u001b[0mserve\u001b[0m\u001b[0;34m(\u001b[0m\u001b[0mdoc\u001b[0m\u001b[0;34m,\u001b[0m \u001b[0mstyle\u001b[0m\u001b[0;34m=\u001b[0m\u001b[0;34m\"ent\"\u001b[0m\u001b[0;34m)\u001b[0m\u001b[0;34m\u001b[0m\u001b[0;34m\u001b[0m\u001b[0m\n",
      "\u001b[0;31mNameError\u001b[0m: name 'nlp' is not defined"
     ]
    }
   ],
   "source": [
    "doc = nlp(text)\n",
    "displacy.serve(doc, style=\"ent\")"
   ]
  },
  {
   "cell_type": "code",
   "execution_count": null,
   "metadata": {},
   "outputs": [],
   "source": []
  }
 ],
 "metadata": {
  "kernelspec": {
   "display_name": "Python 3",
   "language": "python",
   "name": "python3"
  },
  "language_info": {
   "codemirror_mode": {
    "name": "ipython",
    "version": 3
   },
   "file_extension": ".py",
   "mimetype": "text/x-python",
   "name": "python",
   "nbconvert_exporter": "python",
   "pygments_lexer": "ipython3",
   "version": "3.6.10"
  }
 },
 "nbformat": 4,
 "nbformat_minor": 4
}
